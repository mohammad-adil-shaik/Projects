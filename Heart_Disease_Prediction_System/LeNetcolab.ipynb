{
  "nbformat": 4,
  "nbformat_minor": 0,
  "metadata": {
    "colab": {
      "provenance": []
    },
    "kernelspec": {
      "name": "python3",
      "display_name": "Python 3"
    },
    "language_info": {
      "name": "python"
    }
  },
  "cells": [
    {
      "cell_type": "code",
      "source": [
        "!pip install opendatasets\n",
        "import opendatasets as od"
      ],
      "metadata": {
        "colab": {
          "base_uri": "https://localhost:8080/"
        },
        "id": "h4owAJZuaKGW",
        "outputId": "d3a98ea3-c997-4ebe-d0f1-9bb95fab654a"
      },
      "execution_count": null,
      "outputs": [
        {
          "output_type": "stream",
          "name": "stdout",
          "text": [
            "Collecting opendatasets\n",
            "  Downloading opendatasets-0.1.22-py3-none-any.whl (15 kB)\n",
            "Requirement already satisfied: tqdm in /usr/local/lib/python3.10/dist-packages (from opendatasets) (4.66.2)\n",
            "Requirement already satisfied: kaggle in /usr/local/lib/python3.10/dist-packages (from opendatasets) (1.5.16)\n",
            "Requirement already satisfied: click in /usr/local/lib/python3.10/dist-packages (from opendatasets) (8.1.7)\n",
            "Requirement already satisfied: six>=1.10 in /usr/local/lib/python3.10/dist-packages (from kaggle->opendatasets) (1.16.0)\n",
            "Requirement already satisfied: certifi in /usr/local/lib/python3.10/dist-packages (from kaggle->opendatasets) (2024.2.2)\n",
            "Requirement already satisfied: python-dateutil in /usr/local/lib/python3.10/dist-packages (from kaggle->opendatasets) (2.8.2)\n",
            "Requirement already satisfied: requests in /usr/local/lib/python3.10/dist-packages (from kaggle->opendatasets) (2.31.0)\n",
            "Requirement already satisfied: python-slugify in /usr/local/lib/python3.10/dist-packages (from kaggle->opendatasets) (8.0.4)\n",
            "Requirement already satisfied: urllib3 in /usr/local/lib/python3.10/dist-packages (from kaggle->opendatasets) (2.0.7)\n",
            "Requirement already satisfied: bleach in /usr/local/lib/python3.10/dist-packages (from kaggle->opendatasets) (6.1.0)\n",
            "Requirement already satisfied: webencodings in /usr/local/lib/python3.10/dist-packages (from bleach->kaggle->opendatasets) (0.5.1)\n",
            "Requirement already satisfied: text-unidecode>=1.3 in /usr/local/lib/python3.10/dist-packages (from python-slugify->kaggle->opendatasets) (1.3)\n",
            "Requirement already satisfied: charset-normalizer<4,>=2 in /usr/local/lib/python3.10/dist-packages (from requests->kaggle->opendatasets) (3.3.2)\n",
            "Requirement already satisfied: idna<4,>=2.5 in /usr/local/lib/python3.10/dist-packages (from requests->kaggle->opendatasets) (3.6)\n",
            "Installing collected packages: opendatasets\n",
            "Successfully installed opendatasets-0.1.22\n"
          ]
        }
      ]
    },
    {
      "cell_type": "code",
      "execution_count": null,
      "metadata": {
        "colab": {
          "base_uri": "https://localhost:8080/"
        },
        "id": "k3aYc8CYaH4q",
        "outputId": "fb911c51-093b-4d24-a4d6-9126b73e9db5"
      },
      "outputs": [
        {
          "output_type": "stream",
          "name": "stdout",
          "text": [
            "Please provide your Kaggle credentials to download this dataset. Learn more: http://bit.ly/kaggle-creds\n",
            "Your Kaggle username: maheshmitta12\n",
            "Your Kaggle Key: ··········\n",
            "Downloading ecg-dataset.zip to ./ecg-dataset\n"
          ]
        },
        {
          "output_type": "stream",
          "name": "stderr",
          "text": [
            "100%|██████████| 788M/788M [00:13<00:00, 61.6MB/s]\n"
          ]
        },
        {
          "output_type": "stream",
          "name": "stdout",
          "text": [
            "\n"
          ]
        },
        {
          "output_type": "execute_result",
          "data": {
            "text/plain": [
              "{'username': 'maheshmitta12', 'key': '26616f230e68dc3dba1537b000a70bcc'}"
            ]
          },
          "metadata": {},
          "execution_count": 2
        }
      ],
      "source": [
        "od.download('https://www.kaggle.com/datasets/maheshmitta12/ecg-dataset')\n",
        "\n",
        "{\"username\":\"maheshmitta12\",\"key\":\"26616f230e68dc3dba1537b000a70bcc\"}"
      ]
    },
    {
      "cell_type": "code",
      "source": [
        "import tensorflow as tf\n",
        "from tensorflow.keras import layers, models\n",
        "from tensorflow.keras.preprocessing.image import ImageDataGenerator\n",
        "from sklearn.metrics import classification_report, confusion_matrix\n",
        "from tensorflow.keras.preprocessing import image\n",
        "import numpy as np\n"
      ],
      "metadata": {
        "id": "sOsEsMV9aaAK"
      },
      "execution_count": null,
      "outputs": []
    },
    {
      "cell_type": "code",
      "source": [
        "# Set your data directory\n",
        "data_directory = '/content/ecg-dataset/dataset/ECG_Image_data/train'"
      ],
      "metadata": {
        "id": "E76yLR9laZ0o"
      },
      "execution_count": null,
      "outputs": []
    },
    {
      "cell_type": "code",
      "source": [
        "# Define image size and batch size\n",
        "img_size = (128, 128)\n",
        "batch_size = 32"
      ],
      "metadata": {
        "id": "hssUE8f6aZpf"
      },
      "execution_count": null,
      "outputs": []
    },
    {
      "cell_type": "code",
      "source": [
        "# Create data generators for training, validation, and testing\n",
        "datagen = ImageDataGenerator(rescale=1./255, validation_split=0.2)\n",
        "\n",
        "train_generator = datagen.flow_from_directory(\n",
        "    data_directory,\n",
        "    target_size=img_size,\n",
        "    batch_size=batch_size,\n",
        "    color_mode='grayscale',  # Use grayscale images\n",
        "    class_mode='categorical',\n",
        "    subset='training'\n",
        ")\n",
        "\n",
        "validation_generator = datagen.flow_from_directory(\n",
        "    data_directory,\n",
        "    target_size=img_size,\n",
        "    batch_size=batch_size,\n",
        "    color_mode='grayscale',\n",
        "    class_mode='categorical',\n",
        "    subset='validation'\n",
        ")\n",
        "\n",
        "test_generator = datagen.flow_from_directory(\n",
        "    data_directory,\n",
        "    target_size=img_size,\n",
        "    batch_size=batch_size,\n",
        "    color_mode='grayscale',\n",
        "    class_mode='categorical',\n",
        "    shuffle=False  # Don't shuffle for evaluation\n",
        ")"
      ],
      "metadata": {
        "colab": {
          "base_uri": "https://localhost:8080/"
        },
        "id": "v3C8iqSdaZjC",
        "outputId": "50538882-4008-4d37-fa67-d2d77a1e5898"
      },
      "execution_count": null,
      "outputs": [
        {
          "output_type": "stream",
          "name": "stdout",
          "text": [
            "Found 72638 images belonging to 5 classes.\n",
            "Found 18156 images belonging to 5 classes.\n",
            "Found 90794 images belonging to 5 classes.\n"
          ]
        }
      ]
    },
    {
      "cell_type": "code",
      "source": [
        "# Create the LeNet-5 model\n",
        "model = models.Sequential([\n",
        "    layers.Conv2D(6, (5, 5), activation='relu', input_shape=(128, 128, 1)),  # Use 'grayscale' images, so input_shape=(128, 128, 1)\n",
        "    layers.MaxPooling2D((2, 2)),\n",
        "    layers.Conv2D(16, (5, 5), activation='relu'),\n",
        "    layers.MaxPooling2D((2, 2)),\n",
        "    layers.Flatten(),\n",
        "    layers.Dense(120, activation='relu'),\n",
        "    layers.Dense(84, activation='relu'),\n",
        "    layers.Dense(5, activation='softmax')  # 5 classes\n",
        "])\n",
        "\n",
        "model.compile(optimizer='adam', loss='categorical_crossentropy', metrics=['accuracy'])\n"
      ],
      "metadata": {
        "id": "D-6eiHEyaZO2"
      },
      "execution_count": null,
      "outputs": []
    },
    {
      "cell_type": "code",
      "source": [
        "# Train the model\n",
        "\n",
        "epochs = 10\n",
        "history = model.fit(train_generator, epochs=epochs, validation_data=validation_generator)"
      ],
      "metadata": {
        "colab": {
          "base_uri": "https://localhost:8080/"
        },
        "id": "hyauFZ-9aY_8",
        "outputId": "5073808f-95d9-4a22-fc8c-472a0cf2e6a4"
      },
      "execution_count": null,
      "outputs": [
        {
          "output_type": "stream",
          "name": "stdout",
          "text": [
            "Epoch 1/10\n",
            "2270/2270 [==============================] - 1074s 473ms/step - loss: 0.0502 - accuracy: 0.9849 - val_loss: 0.0230 - val_accuracy: 0.9939\n",
            "Epoch 2/10\n",
            "2270/2270 [==============================] - 1052s 463ms/step - loss: 0.0137 - accuracy: 0.9956 - val_loss: 0.0111 - val_accuracy: 0.9969\n",
            "Epoch 3/10\n",
            "2270/2270 [==============================] - 1048s 462ms/step - loss: 0.0201 - accuracy: 0.9943 - val_loss: 0.0091 - val_accuracy: 0.9975\n",
            "Epoch 4/10\n",
            "2270/2270 [==============================] - 996s 439ms/step - loss: 0.0133 - accuracy: 0.9959 - val_loss: 0.0093 - val_accuracy: 0.9974\n",
            "Epoch 5/10\n",
            "2270/2270 [==============================] - 1051s 463ms/step - loss: 0.0119 - accuracy: 0.9965 - val_loss: 0.0085 - val_accuracy: 0.9976\n",
            "Epoch 6/10\n",
            "2270/2270 [==============================] - 1042s 459ms/step - loss: 0.0050 - accuracy: 0.9983 - val_loss: 0.0081 - val_accuracy: 0.9979\n",
            "Epoch 7/10\n",
            "2270/2270 [==============================] - 1040s 458ms/step - loss: 0.0289 - accuracy: 0.9942 - val_loss: 0.0118 - val_accuracy: 0.9968\n",
            "Epoch 8/10\n",
            "2270/2270 [==============================] - 1042s 459ms/step - loss: 0.0047 - accuracy: 0.9985 - val_loss: 0.0079 - val_accuracy: 0.9977\n",
            "Epoch 9/10\n",
            "2270/2270 [==============================] - 1037s 457ms/step - loss: 0.0131 - accuracy: 0.9968 - val_loss: 0.0112 - val_accuracy: 0.9969\n",
            "Epoch 10/10\n",
            "2270/2270 [==============================] - 976s 430ms/step - loss: 0.0058 - accuracy: 0.9981 - val_loss: 0.0098 - val_accuracy: 0.9979\n"
          ]
        }
      ]
    },
    {
      "cell_type": "code",
      "source": [
        "model.save('LeNet_model.h5')"
      ],
      "metadata": {
        "colab": {
          "base_uri": "https://localhost:8080/"
        },
        "id": "DA2atReyeCb2",
        "outputId": "fea9a078-6a59-4eaf-d58f-5334b04bd51c"
      },
      "execution_count": null,
      "outputs": [
        {
          "output_type": "stream",
          "name": "stderr",
          "text": [
            "/usr/local/lib/python3.10/dist-packages/keras/src/engine/training.py:3103: UserWarning: You are saving your model as an HDF5 file via `model.save()`. This file format is considered legacy. We recommend using instead the native Keras format, e.g. `model.save('my_model.keras')`.\n",
            "  saving_api.save_model(\n"
          ]
        }
      ]
    },
    {
      "cell_type": "code",
      "source": [
        "# Evaluate the model on the test set\n",
        "test_results = model.evaluate(test_generator)\n",
        "\n",
        "# Print test metrics\n",
        "print(\"Test Loss:\", test_results[0])\n",
        "print(\"Test Accuracy:\", test_results[1])"
      ],
      "metadata": {
        "colab": {
          "base_uri": "https://localhost:8080/"
        },
        "id": "E4h8xRqObRwc",
        "outputId": "0c5b8062-8903-4156-fbef-3821a1d4531f"
      },
      "execution_count": null,
      "outputs": [
        {
          "output_type": "stream",
          "name": "stdout",
          "text": [
            "2838/2838 [==============================] - 547s 193ms/step - loss: 0.0033 - accuracy: 0.9992\n",
            "Test Loss: 0.0032715369015932083\n",
            "Test Accuracy: 0.9992400407791138\n"
          ]
        }
      ]
    },
    {
      "cell_type": "code",
      "source": [
        "# Generate predictions on the test set\n",
        "predictions = model.predict(test_generator)"
      ],
      "metadata": {
        "colab": {
          "base_uri": "https://localhost:8080/"
        },
        "id": "mQSbhINKbXDi",
        "outputId": "e189c50e-be45-4926-edf6-0c6ae4f3f0cc"
      },
      "execution_count": null,
      "outputs": [
        {
          "output_type": "stream",
          "name": "stdout",
          "text": [
            "2838/2838 [==============================] - 485s 171ms/step\n"
          ]
        }
      ]
    },
    {
      "cell_type": "code",
      "source": [
        "# Convert predictions to class labels\n",
        "predicted_classes = tf.argmax(predictions, axis=1)\n",
        "true_classes = test_generator.classes"
      ],
      "metadata": {
        "id": "2TU8gQEvbXq_"
      },
      "execution_count": null,
      "outputs": []
    },
    {
      "cell_type": "code",
      "source": [
        "# Print classification report and confusion matrix\n",
        "class_labels = list(test_generator.class_indices.keys())\n",
        "print(\"\\nClassification Report:\")\n",
        "print(classification_report(true_classes, predicted_classes, target_names=class_labels))\n",
        "\n",
        "print(\"\\nConfusion Matrix:\")\n",
        "conf_matrix = confusion_matrix(true_classes, predicted_classes)\n",
        "print(conf_matrix)"
      ],
      "metadata": {
        "colab": {
          "base_uri": "https://localhost:8080/"
        },
        "id": "I3Eoq109bZ7l",
        "outputId": "b1853367-7100-421a-86d9-301db6dd9b64"
      },
      "execution_count": null,
      "outputs": [
        {
          "output_type": "stream",
          "name": "stdout",
          "text": [
            "\n",
            "Classification Report:\n",
            "              precision    recall  f1-score   support\n",
            "\n",
            "           F       1.00      1.00      1.00       642\n",
            "           N       1.00      1.00      1.00     75709\n",
            "           Q       1.00      1.00      1.00      6431\n",
            "           S       0.99      0.98      0.99      2223\n",
            "           V       0.99      1.00      0.99      5789\n",
            "\n",
            "    accuracy                           1.00     90794\n",
            "   macro avg       1.00      0.99      1.00     90794\n",
            "weighted avg       1.00      1.00      1.00     90794\n",
            "\n",
            "\n",
            "Confusion Matrix:\n",
            "[[  640     0     0     0     2]\n",
            " [    0 75706     3     0     0]\n",
            " [    0     2  6429     0     0]\n",
            " [    0     0     0  2176    47]\n",
            " [    0     0     0    15  5774]]\n"
          ]
        }
      ]
    },
    {
      "cell_type": "code",
      "source": [
        "from google.colab import drive\n",
        "drive.mount('/content/drive')"
      ],
      "metadata": {
        "colab": {
          "base_uri": "https://localhost:8080/"
        },
        "id": "FlWdDQ79l_xs",
        "outputId": "b55b01a5-24bf-4908-8054-d692aadf6a1a"
      },
      "execution_count": 3,
      "outputs": [
        {
          "output_type": "stream",
          "name": "stdout",
          "text": [
            "Mounted at /content/drive\n"
          ]
        }
      ]
    },
    {
      "cell_type": "code",
      "source": [
        "from tensorflow.keras.models import load_model\n",
        "model = load_model('/content/drive/MyDrive/LeNet_model.h5')"
      ],
      "metadata": {
        "id": "0LsnNgEWmAgR"
      },
      "execution_count": 4,
      "outputs": []
    },
    {
      "cell_type": "code",
      "source": [
        "# Test an individual image\n",
        "from tensorflow.keras.preprocessing import image\n",
        "import numpy as np\n",
        "\n",
        "class_labels = ['F', 'N', 'Q', 'S', 'V']\n",
        "\n",
        "def test_single_image(image_path):\n",
        "    img = image.load_img(image_path, target_size=(128, 128), color_mode='grayscale')\n",
        "    img_array = image.img_to_array(img)\n",
        "    img_array = np.expand_dims(img_array, axis=0)\n",
        "    img_array /= 255.0  # Normalize pixel values\n",
        "    prediction = model.predict(img_array)\n",
        "    predicted_class = np.argmax(prediction)\n",
        "    predicted_label = class_labels[predicted_class]\n",
        "    print(f\"Predicted class: {predicted_label}\")\n",
        "\n",
        "\n",
        "# Example usage for testing a single image\n",
        "test_single_image('/content/N54.png')"
      ],
      "metadata": {
        "colab": {
          "base_uri": "https://localhost:8080/"
        },
        "id": "fPIUYpEgbeZG",
        "outputId": "88830f2f-2949-4dcb-e0f5-2a608755b8f9"
      },
      "execution_count": 7,
      "outputs": [
        {
          "output_type": "stream",
          "name": "stdout",
          "text": [
            "1/1 [==============================] - 0s 46ms/step\n",
            "Predicted class: N\n"
          ]
        }
      ]
    },
    {
      "cell_type": "code",
      "source": [],
      "metadata": {
        "id": "ekf7NgdLmDAC"
      },
      "execution_count": null,
      "outputs": []
    }
  ]
}